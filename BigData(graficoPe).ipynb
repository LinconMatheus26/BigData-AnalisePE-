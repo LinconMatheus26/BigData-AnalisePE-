{
  "nbformat": 4,
  "nbformat_minor": 0,
  "metadata": {
    "colab": {
      "provenance": [],
      "mount_file_id": "1p-lClUulXkUlJm0Xfoco2hWccSjJlXrf",
      "authorship_tag": "ABX9TyPu9SzO+YXYtfMymm45lkYa",
      "include_colab_link": true
    },
    "kernelspec": {
      "name": "python3",
      "display_name": "Python 3"
    },
    "language_info": {
      "name": "python"
    }
  },
  "cells": [
    {
      "cell_type": "markdown",
      "metadata": {
        "id": "view-in-github",
        "colab_type": "text"
      },
      "source": [
        "<a href=\"https://colab.research.google.com/github/LinconMatheus26/BigData-AnalisePE-/blob/main/BigData(graficoPe).ipynb\" target=\"_parent\"><img src=\"https://colab.research.google.com/assets/colab-badge.svg\" alt=\"Open In Colab\"/></a>"
      ]
    },
    {
      "cell_type": "markdown",
      "source": [
        "# Análise da Violência Doméstica no estado de Pernambuco e Propostas para Melhoria da Segurança."
      ],
      "metadata": {
        "id": "ieiJwTGRn4La"
      }
    },
    {
      "cell_type": "markdown",
      "source": [
        "Equipe:\n",
        "Lincon Matheus\n",
        "Erick Lins\n",
        "Pricila Ribas\n",
        "Heber Marinho\n",
        "Wellington Lima\n",
        "Pablo Riquelme\n",
        "Pedro Valença"
      ],
      "metadata": {
        "id": "uBDO4vaZLht-"
      }
    },
    {
      "cell_type": "markdown",
      "source": [
        "Com base nas análises realizadas, foi observado um aumento contínuo nas ocorrências de violência doméstica, especialmente na região metropolitana, ao longo dos anos. Esse cenário sugere a necessidade de políticas e leis mais eficazes para combater e reduzir esses atos.\n",
        "\n",
        "Análises Realizadas:\n",
        "Análise de Dados Gerais:\n",
        "\n",
        "Foram analisados dados de violência doméstica entre os anos de 2015 a 2024.\n",
        "Identificação de um aumento constante no número de ocorrências ao longo desses anos, especialmente na região metropolitana.\n",
        "Análise Específica para Recife:\n",
        "\n",
        "Foi realizado um estudo específico para Recife, onde se observou um aumento significativo nas ocorrências de violência doméstica no período analisado.\n",
        "Essa análise destacou a necessidade de intervenções mais eficazes para proteger os indivíduos em ambiente doméstico.\n",
        "Comparação e Tendências:\n",
        "\n",
        "Foram comparadas as tendências de ocorrências em diferentes regiões e ao longo dos anos.\n",
        "A constatação de um crescimento contínuo reforça a importância de medidas legislativas mais rigorosas e políticas de prevenção mais eficazes.\n",
        "Recomendações:\n",
        "Diante desses dados, recomenda-se:\n",
        "\n",
        "Revisão e Reforço da Legislação: Proporcionar leis mais rigorosas e eficazes para lidar com casos de violência doméstica, garantindo proteção adequada às vítimas e punição aos agressores.\n",
        "\n",
        "Investimento em Prevenção: Implementar programas de conscientização e prevenção nas comunidades, visando educar sobre os direitos e recursos disponíveis para vítimas de violência doméstica.\n",
        "\n",
        "Apoio às Vítimas: Expandir os serviços de apoio psicológico, jurídico e social para as vítimas, facilitando o acesso a ajuda e suporte adequados."
      ],
      "metadata": {
        "id": "YIZdUnhfU2vP"
      }
    },
    {
      "cell_type": "code",
      "execution_count": 2,
      "metadata": {
        "colab": {
          "base_uri": "https://localhost:8080/"
        },
        "id": "9eHrI2GQfxqB",
        "outputId": "6961d38a-9405-4683-e29b-fab28e900771"
      },
      "outputs": [
        {
          "output_type": "stream",
          "name": "stdout",
          "text": [
            "Collecting pyspark\n",
            "  Downloading pyspark-3.5.1.tar.gz (317.0 MB)\n",
            "\u001b[2K     \u001b[90m━━━━━━━━━━━━━━━━━━━━━━━━━━━━━━━━━━━━━━━━\u001b[0m \u001b[32m317.0/317.0 MB\u001b[0m \u001b[31m4.0 MB/s\u001b[0m eta \u001b[36m0:00:00\u001b[0m\n",
            "\u001b[?25h  Preparing metadata (setup.py) ... \u001b[?25l\u001b[?25hdone\n",
            "Requirement already satisfied: py4j==0.10.9.7 in /usr/local/lib/python3.10/dist-packages (from pyspark) (0.10.9.7)\n",
            "Building wheels for collected packages: pyspark\n",
            "  Building wheel for pyspark (setup.py) ... \u001b[?25l\u001b[?25hdone\n",
            "  Created wheel for pyspark: filename=pyspark-3.5.1-py2.py3-none-any.whl size=317488491 sha256=b692d978a0d3d2f75a97956c790212e00a1028a35106caff74093500342f062f\n",
            "  Stored in directory: /root/.cache/pip/wheels/80/1d/60/2c256ed38dddce2fdd93be545214a63e02fbd8d74fb0b7f3a6\n",
            "Successfully built pyspark\n",
            "Installing collected packages: pyspark\n",
            "Successfully installed pyspark-3.5.1\n"
          ]
        }
      ],
      "source": [
        "!pip install pyspark"
      ]
    },
    {
      "cell_type": "code",
      "source": [
        "from pyspark.sql import SparkSession\n",
        "\n",
        "spark = SparkSession.builder \\\n",
        "    .appName(\"violenciad\") \\\n",
        "    .getOrCreate()"
      ],
      "metadata": {
        "id": "3hyD5nlLgOwS"
      },
      "execution_count": 3,
      "outputs": []
    },
    {
      "cell_type": "code",
      "source": [
        "import gdown\n",
        "import os\n",
        "import pandas as pd\n",
        "\n",
        "url = 'https://docs.google.com/spreadsheets/d/13FcWErE0mPMSBAGIy7A_WXgvmRE-IXm9/export?format=xlsx'\n",
        "#output = 'drive/MyDrive/Colab_Notebooks/vilenciad.xlsx'\n",
        "output = 'vilenciad.xlsx'\n",
        "\n",
        "\n",
        "#os.makedirs(os.path.dirname(output), exist_ok=True)\n",
        "\n",
        "gdown.download(url, output, quiet=False)\n",
        "\n",
        "\n",
        "df = pd.read_excel('vilenciad.xlsx') #carrega o arquivo xlsx que foi baixado\n",
        "df.to_csv('violencia.csv') # converte para csv"
      ],
      "metadata": {
        "id": "3ai8vowTgf74",
        "colab": {
          "base_uri": "https://localhost:8080/"
        },
        "outputId": "f0a17b82-10f1-4843-b69a-3e26dfe52fd7"
      },
      "execution_count": 4,
      "outputs": [
        {
          "output_type": "stream",
          "name": "stderr",
          "text": [
            "/usr/local/lib/python3.10/dist-packages/gdown/parse_url.py:48: UserWarning: You specified a Google Drive link that is not the correct link to download a file. You might want to try `--fuzzy` option or the following url: https://drive.google.com/uc?id=None\n",
            "  warnings.warn(\n",
            "Downloading...\n",
            "From: https://docs.google.com/spreadsheets/d/13FcWErE0mPMSBAGIy7A_WXgvmRE-IXm9/export?format=xlsx\n",
            "To: /content/vilenciad.xlsx\n",
            "9.91MB [00:00, 46.8MB/s]\n"
          ]
        }
      ]
    },
    {
      "cell_type": "code",
      "source": [
        "# Lendo o arquivo CSV com PySpark\n",
        "df = spark.read.csv('violencia.csv', header=True, inferSchema=True)\n",
        "\n",
        "# Mostrando as primeiras linhas do DataFrame para verificação\n",
        "df.show(5)"
      ],
      "metadata": {
        "colab": {
          "base_uri": "https://localhost:8080/"
        },
        "id": "OaEi-35kiWks",
        "outputId": "ef8ebbe1-64a0-43d6-e238-7c8a61ead04c"
      },
      "execution_count": 31,
      "outputs": [
        {
          "output_type": "stream",
          "name": "stdout",
          "text": [
            "+---+--------------------+--------------------+--------------------+----------+----+--------+--------+----------+\n",
            "|_c0|           MUNICÍPIO|              REGIAO|            NATUREZA|      DATA| ANO|    SEXO|  IDADE |ENVOLVIDOS|\n",
            "+---+--------------------+--------------------+--------------------+----------+----+--------+--------+----------+\n",
            "|  0|             AFRANIO|              SERTÃO|AMEAÇA POR VIOLÊN...|2015-01-01|2015|FEMININO|5) 30-34|         1|\n",
            "|  1|           ALAGOINHA|             AGRESTE|AMEAÇA POR VIOLÊN...|2015-01-01|2015|FEMININO|6) 35-64|         1|\n",
            "|  2|            BEZERROS|             AGRESTE|AMEAÇA POR VIOLÊN...|2015-01-01|2015|FEMININO|5) 30-34|         1|\n",
            "|  3|CABO DE SANTO AGO...|REGIÃO METROPOLITANA|AMEAÇA POR VIOLÊN...|2015-01-01|2015|FEMININO|3) 18-24|         1|\n",
            "|  4|CABO DE SANTO AGO...|REGIÃO METROPOLITANA|AMEAÇA POR VIOLÊN...|2015-01-01|2015|FEMININO|5) 30-34|         1|\n",
            "+---+--------------------+--------------------+--------------------+----------+----+--------+--------+----------+\n",
            "only showing top 5 rows\n",
            "\n"
          ]
        }
      ]
    },
    {
      "cell_type": "code",
      "source": [
        "from pyspark.sql import SparkSession\n"
      ],
      "metadata": {
        "id": "jqrkDn8Qprok"
      },
      "execution_count": 32,
      "outputs": []
    },
    {
      "cell_type": "code",
      "source": [
        "spark = SparkSession.builder.appName(\"Análise de Dados\").getOrCreate()\n"
      ],
      "metadata": {
        "id": "Yl1wailXvLDt"
      },
      "execution_count": 33,
      "outputs": []
    },
    {
      "cell_type": "code",
      "source": [
        "df = spark.read.csv(\"violencia.csv\", header=True, inferSchema=True)\n"
      ],
      "metadata": {
        "id": "VSOHnLQcvN-Z"
      },
      "execution_count": 34,
      "outputs": []
    },
    {
      "cell_type": "code",
      "source": [
        "df.printSchema()\n",
        "df.show(5)\n"
      ],
      "metadata": {
        "colab": {
          "base_uri": "https://localhost:8080/"
        },
        "id": "pArNZk9PvbJ-",
        "outputId": "7bdbda1b-c39f-4840-faa2-8a256361c301"
      },
      "execution_count": 35,
      "outputs": [
        {
          "output_type": "stream",
          "name": "stdout",
          "text": [
            "root\n",
            " |-- _c0: integer (nullable = true)\n",
            " |-- MUNICÍPIO: string (nullable = true)\n",
            " |-- REGIAO: string (nullable = true)\n",
            " |-- NATUREZA: string (nullable = true)\n",
            " |-- DATA: date (nullable = true)\n",
            " |-- ANO: integer (nullable = true)\n",
            " |-- SEXO: string (nullable = true)\n",
            " |-- IDADE : string (nullable = true)\n",
            " |-- ENVOLVIDOS: integer (nullable = true)\n",
            "\n",
            "+---+--------------------+--------------------+--------------------+----------+----+--------+--------+----------+\n",
            "|_c0|           MUNICÍPIO|              REGIAO|            NATUREZA|      DATA| ANO|    SEXO|  IDADE |ENVOLVIDOS|\n",
            "+---+--------------------+--------------------+--------------------+----------+----+--------+--------+----------+\n",
            "|  0|             AFRANIO|              SERTÃO|AMEAÇA POR VIOLÊN...|2015-01-01|2015|FEMININO|5) 30-34|         1|\n",
            "|  1|           ALAGOINHA|             AGRESTE|AMEAÇA POR VIOLÊN...|2015-01-01|2015|FEMININO|6) 35-64|         1|\n",
            "|  2|            BEZERROS|             AGRESTE|AMEAÇA POR VIOLÊN...|2015-01-01|2015|FEMININO|5) 30-34|         1|\n",
            "|  3|CABO DE SANTO AGO...|REGIÃO METROPOLITANA|AMEAÇA POR VIOLÊN...|2015-01-01|2015|FEMININO|3) 18-24|         1|\n",
            "|  4|CABO DE SANTO AGO...|REGIÃO METROPOLITANA|AMEAÇA POR VIOLÊN...|2015-01-01|2015|FEMININO|5) 30-34|         1|\n",
            "+---+--------------------+--------------------+--------------------+----------+----+--------+--------+----------+\n",
            "only showing top 5 rows\n",
            "\n"
          ]
        }
      ]
    },
    {
      "cell_type": "code",
      "source": [
        "from pyspark.sql.functions import col\n",
        "\n",
        "# Contagem de ocorrências por região no estado de Pernambuco entre 2015-2024\n",
        "contagem_por_regiao = df.groupBy('REGIAO').count().orderBy('count', ascending=False)\n",
        "contagem_por_regiao.show()\n"
      ],
      "metadata": {
        "colab": {
          "base_uri": "https://localhost:8080/"
        },
        "id": "Fqpyixavvi7n",
        "outputId": "ce9ed2d0-88df-4f47-c38e-61d33df08e53"
      },
      "execution_count": 36,
      "outputs": [
        {
          "output_type": "stream",
          "name": "stdout",
          "text": [
            "+--------------------+-----+\n",
            "|              REGIAO|count|\n",
            "+--------------------+-----+\n",
            "|REGIÃO METROPOLITANA|90437|\n",
            "|             AGRESTE|78230|\n",
            "|              SERTÃO|72895|\n",
            "|              RECIFE|53231|\n",
            "|        ZONA DA MATA|39651|\n",
            "+--------------------+-----+\n",
            "\n"
          ]
        }
      ]
    },
    {
      "cell_type": "code",
      "source": [
        "# Contagem de ocorrências por ano(Percebe-se que a vlionecia )\n",
        "contagem_por_ano = df.groupBy('ANO').count().orderBy('ANO')\n",
        "contagem_por_ano.show()\n",
        "\n"
      ],
      "metadata": {
        "colab": {
          "base_uri": "https://localhost:8080/"
        },
        "id": "4hsRVMKrvyNE",
        "outputId": "3807e781-baae-406c-e0c8-608de9aa7698"
      },
      "execution_count": 37,
      "outputs": [
        {
          "output_type": "stream",
          "name": "stdout",
          "text": [
            "+----+-----+\n",
            "| ANO|count|\n",
            "+----+-----+\n",
            "|2015|27498|\n",
            "|2016|27872|\n",
            "|2017|29121|\n",
            "|2018|35138|\n",
            "|2019|37152|\n",
            "|2020|36403|\n",
            "|2021|36985|\n",
            "|2022|38883|\n",
            "|2023|45815|\n",
            "|2024|19577|\n",
            "+----+-----+\n",
            "\n"
          ]
        }
      ]
    },
    {
      "cell_type": "code",
      "source": [
        "# Verifique se o nome da coluna está correto e se existe no DataFrame\n",
        "print(df.columns)  # Imprime as colunas do DataFrame\n",
        "\n"
      ],
      "metadata": {
        "colab": {
          "base_uri": "https://localhost:8080/"
        },
        "id": "7ET2xRzpMtAz",
        "outputId": "65bab474-4830-4f16-c2f0-93f9bdf32884"
      },
      "execution_count": 38,
      "outputs": [
        {
          "output_type": "stream",
          "name": "stdout",
          "text": [
            "['_c0', 'MUNICÍPIO', 'REGIAO', 'NATUREZA', 'DATA', 'ANO', 'SEXO', 'IDADE ', 'ENVOLVIDOS']\n"
          ]
        }
      ]
    },
    {
      "cell_type": "code",
      "source": [
        "from pyspark.sql.functions import col\n",
        "\n",
        "# Renomear colunas para remover espaços extras\n",
        "df = df.withColumnRenamed(\"IDADE \", \"IDADE\")  # Remova espaços no final de 'IDADE' se existirem\n",
        "\n",
        "# Verifique novamente as colunas\n",
        "df.printSchema()\n"
      ],
      "metadata": {
        "colab": {
          "base_uri": "https://localhost:8080/"
        },
        "id": "5-ENGcZzNMHu",
        "outputId": "60e1707c-df87-421f-bbd6-5a257c404426"
      },
      "execution_count": 39,
      "outputs": [
        {
          "output_type": "stream",
          "name": "stdout",
          "text": [
            "root\n",
            " |-- _c0: integer (nullable = true)\n",
            " |-- MUNICÍPIO: string (nullable = true)\n",
            " |-- REGIAO: string (nullable = true)\n",
            " |-- NATUREZA: string (nullable = true)\n",
            " |-- DATA: date (nullable = true)\n",
            " |-- ANO: integer (nullable = true)\n",
            " |-- SEXO: string (nullable = true)\n",
            " |-- IDADE: string (nullable = true)\n",
            " |-- ENVOLVIDOS: integer (nullable = true)\n",
            "\n"
          ]
        }
      ]
    },
    {
      "cell_type": "code",
      "source": [
        "#Contagem de ocorrências por tipo de crime (Nota-se que ameaças por violência doméstica e familiar são mais frequentes, possivelmente devido à legislação mais rigorosa para esses casos).\n",
        "contagem_por_natureza = df.groupBy('NATUREZA').count().orderBy('count', ascending=False)\n",
        "print(\"Contagem de ocorrências por natureza:\")\n",
        "contagem_por_natureza.show()\n"
      ],
      "metadata": {
        "colab": {
          "base_uri": "https://localhost:8080/"
        },
        "id": "Z9NhVMbMN694",
        "outputId": "53c5e4cb-d178-47c0-8dd7-87aac2206c0c"
      },
      "execution_count": 46,
      "outputs": [
        {
          "output_type": "stream",
          "name": "stdout",
          "text": [
            "Contagem de ocorrências por natureza:\n",
            "+--------------------+------+\n",
            "|            NATUREZA| count|\n",
            "+--------------------+------+\n",
            "|AMEAÇA POR VIOLÊN...|121177|\n",
            "|LESÃO CORPORAL PO...| 80926|\n",
            "|INJÚRIA POR VIOLÊ...| 44874|\n",
            "|DANO POR VIOLÊNCI...| 17316|\n",
            "|OUTROS CRIMES POR...| 17258|\n",
            "|VIAS DE FATOS POR...| 17117|\n",
            "|PERTURBAÇÃO DO SO...| 10587|\n",
            "|DIFAMAÇÃO POR VIO...|  8534|\n",
            "|MAUS TRATOS POR V...|  4540|\n",
            "|ESTUPRO DE VULNER...|  3805|\n",
            "|PERSEGUIÇÃO POR V...|  3534|\n",
            "|CALÚNIA POR VIOLÊ...|  1880|\n",
            "|ESTUPRO POR VIOLÊ...|  1325|\n",
            "|CONSTRANGIMENTO I...|  1219|\n",
            "|CÁRCERE PRIVADO P...|   352|\n",
            "+--------------------+------+\n",
            "\n"
          ]
        }
      ]
    },
    {
      "cell_type": "code",
      "source": [
        "# Excluir registros onde a coluna 'IDADE' é nula\n",
        "df = df.filter(df.IDADE.isNotNull())\n"
      ],
      "metadata": {
        "id": "7XkF_G_eQQgB"
      },
      "execution_count": 43,
      "outputs": []
    },
    {
      "cell_type": "code",
      "source": [
        "from pyspark.sql.types import IntegerType\n",
        "\n",
        "# Cast the 'IDADE' column to IntegerType\n",
        "df = df.withColumn(\"IDADE\", col(\"IDADE\").cast(IntegerType()))\n"
      ],
      "metadata": {
        "id": "NvBNX0HVQShQ"
      },
      "execution_count": 44,
      "outputs": []
    },
    {
      "cell_type": "code",
      "source": [
        "# Calcular a média de idade dos envolvidos por natureza\n",
        "media_idade_por_natureza = df.groupBy('NATUREZA').avg('IDADE').orderBy('avg(IDADE)', ascending=False)\n",
        "print(\"Média de idade dos envolvidos por natureza:\")\n",
        "media_idade_por_natureza.show(truncate=False)\n"
      ],
      "metadata": {
        "colab": {
          "base_uri": "https://localhost:8080/"
        },
        "id": "t0h-c1rXQhd2",
        "outputId": "78d10084-f389-4623-db1d-3b8f78216a40"
      },
      "execution_count": 47,
      "outputs": [
        {
          "output_type": "stream",
          "name": "stdout",
          "text": [
            "Média de idade dos envolvidos por natureza:\n",
            "+-------------------------------------------------------+----------+\n",
            "|NATUREZA                                               |avg(IDADE)|\n",
            "+-------------------------------------------------------+----------+\n",
            "|INJÚRIA POR VIOLÊNCIA DOMÉSTICA/FAMILIAR               |NULL      |\n",
            "|DIFAMAÇÃO POR VIOLÊNCIA DOMÉSTICA/FAMILIAR             |NULL      |\n",
            "|CONSTRANGIMENTO ILEGAL POR VIOLÊNCIA DOMÉSTICA/FAMILIAR|NULL      |\n",
            "|ESTUPRO POR VIOLÊNCIA DOMÉSTICA/FAMILIAR               |NULL      |\n",
            "|AMEAÇA POR VIOLÊNCIA DOMÉSTICA/FAMILIAR                |NULL      |\n",
            "|ESTUPRO DE VULNERÁVEL POR VIOLÊNCIA DOMÉSTICA/FAMILIAR |NULL      |\n",
            "|CALÚNIA POR VIOLÊNCIA DOMÉSTICA/FAMILIAR               |NULL      |\n",
            "|DANO POR VIOLÊNCIA DOMÉSTICA/FAMILIAR                  |NULL      |\n",
            "|CÁRCERE PRIVADO POR VIOLÊNCIA DOMÉSTICA/FAMILIAR       |NULL      |\n",
            "|VIAS DE FATOS POR VIOLÊNCIA DOMÉSTICA/FAMILIAR         |NULL      |\n",
            "|LESÃO CORPORAL POR VIOLÊNCIA DOMÉSTICA/FAMILIAR        |NULL      |\n",
            "|PERSEGUIÇÃO POR VIOLÊNCIA DOMÉSTICA/FAMILIAR           |NULL      |\n",
            "|OUTROS CRIMES POR VIOLÊNCIA DOMÉSTICA/FAMILIAR         |NULL      |\n",
            "|MAUS TRATOS POR VIOLÊNCIA DOMÉSTICA/FAMILIAR           |NULL      |\n",
            "|PERTURBAÇÃO DO SOSSEGO POR VIOLÊNCIA DOMÉSTICA/FAMILIAR|NULL      |\n",
            "+-------------------------------------------------------+----------+\n",
            "\n"
          ]
        }
      ]
    },
    {
      "cell_type": "code",
      "source": [
        "# Média de número de violencia domestica\n",
        "media_envolvidos_por_natureza = df.groupBy('NATUREZA').avg('ENVOLVIDOS').orderBy('avg(ENVOLVIDOS)', ascending=False)\n",
        "print(\"Média de envolvidos por natureza:\")\n",
        "media_envolvidos_por_natureza.show(truncate=False)\n"
      ],
      "metadata": {
        "colab": {
          "base_uri": "https://localhost:8080/"
        },
        "id": "bF7Wj9vhQmEX",
        "outputId": "66de3619-804a-48ab-d830-1dc471aff514"
      },
      "execution_count": 48,
      "outputs": [
        {
          "output_type": "stream",
          "name": "stdout",
          "text": [
            "Média de envolvidos por natureza:\n",
            "+-------------------------------------------------------+------------------+\n",
            "|NATUREZA                                               |avg(ENVOLVIDOS)   |\n",
            "+-------------------------------------------------------+------------------+\n",
            "|INJÚRIA POR VIOLÊNCIA DOMÉSTICA/FAMILIAR               |1.32377323171547  |\n",
            "|AMEAÇA POR VIOLÊNCIA DOMÉSTICA/FAMILIAR                |1.2995617980309795|\n",
            "|LESÃO CORPORAL POR VIOLÊNCIA DOMÉSTICA/FAMILIAR        |1.1363097150483157|\n",
            "|MAUS TRATOS POR VIOLÊNCIA DOMÉSTICA/FAMILIAR           |1.1246696035242292|\n",
            "|VIAS DE FATOS POR VIOLÊNCIA DOMÉSTICA/FAMILIAR         |1.0994917333644914|\n",
            "|PERTURBAÇÃO DO SOSSEGO POR VIOLÊNCIA DOMÉSTICA/FAMILIAR|1.0908661566071598|\n",
            "|ESTUPRO DE VULNERÁVEL POR VIOLÊNCIA DOMÉSTICA/FAMILIAR |1.0791064388961893|\n",
            "|PERSEGUIÇÃO POR VIOLÊNCIA DOMÉSTICA/FAMILIAR           |1.0659309564233164|\n",
            "|DIFAMAÇÃO POR VIOLÊNCIA DOMÉSTICA/FAMILIAR             |1.052261542067026 |\n",
            "|OUTROS CRIMES POR VIOLÊNCIA DOMÉSTICA/FAMILIAR         |1.0494263529957122|\n",
            "|DANO POR VIOLÊNCIA DOMÉSTICA/FAMILIAR                  |1.0451027951027951|\n",
            "|CALÚNIA POR VIOLÊNCIA DOMÉSTICA/FAMILIAR               |1.0265957446808511|\n",
            "|CÁRCERE PRIVADO POR VIOLÊNCIA DOMÉSTICA/FAMILIAR       |1.0198863636363635|\n",
            "|ESTUPRO POR VIOLÊNCIA DOMÉSTICA/FAMILIAR               |1.0166037735849056|\n",
            "|CONSTRANGIMENTO ILEGAL POR VIOLÊNCIA DOMÉSTICA/FAMILIAR|1.0139458572600493|\n",
            "+-------------------------------------------------------+------------------+\n",
            "\n"
          ]
        }
      ]
    },
    {
      "cell_type": "code",
      "source": [
        "# Filtrar os dados para incluir apenas os anos de 2015 a 2024\n",
        "df_filtered = df.filter((df.ANO >= 2015) & (df.ANO <= 2024))\n"
      ],
      "metadata": {
        "id": "BMn_ZrO8RLfC"
      },
      "execution_count": 50,
      "outputs": []
    },
    {
      "cell_type": "code",
      "source": [
        "# Contagem de ocorrências por ano e natureza\n",
        "contagem_ano_por_natureza = df_filtered.groupBy('ANO', 'NATUREZA').count()\n"
      ],
      "metadata": {
        "id": "kg_4UwTvRNyd"
      },
      "execution_count": 51,
      "outputs": []
    },
    {
      "cell_type": "code",
      "source": [
        "#AMEAÇA POR VIOLÊNCIA DOMÉSTICA/FAMILIAR sempre lidera como a violencia domestica mais comum.\n",
        "from pyspark.sql.window import Window\n",
        "from pyspark.sql.functions import col, desc, row_number\n",
        "\n",
        "# Define a janela de partição por ano\n",
        "window_spec = Window.partitionBy('ANO').orderBy(desc('count'))\n",
        "\n",
        "# Adiciona uma coluna 'row_number' para identificar a maior ocorrência por ano\n",
        "contagem_ano_por_natureza = contagem_ano_por_natureza.withColumn('row_number', row_number().over(window_spec))\n",
        "\n",
        "# Filtra para manter apenas a maior ocorrência por ano\n",
        "maior_ocorrencia_por_ano = contagem_ano_por_natureza.filter(col('row_number') == 1).drop('row_number')\n",
        "\n",
        "# Ordena por ano para visualização\n",
        "maior_ocorrencia_por_ano = maior_ocorrencia_por_ano.orderBy('ANO')\n",
        "\n",
        "# Mostra o resultado\n",
        "maior_ocorrencia_por_ano.show(truncate=False)\n"
      ],
      "metadata": {
        "colab": {
          "base_uri": "https://localhost:8080/"
        },
        "id": "GNYJGZ8zRP2S",
        "outputId": "ce4bc80b-3584-46e4-b54d-90813f1bf933"
      },
      "execution_count": 53,
      "outputs": [
        {
          "output_type": "stream",
          "name": "stdout",
          "text": [
            "+----+---------------------------------------+-----+\n",
            "|ANO |NATUREZA                               |count|\n",
            "+----+---------------------------------------+-----+\n",
            "|2015|AMEAÇA POR VIOLÊNCIA DOMÉSTICA/FAMILIAR|10201|\n",
            "|2016|AMEAÇA POR VIOLÊNCIA DOMÉSTICA/FAMILIAR|10255|\n",
            "|2017|AMEAÇA POR VIOLÊNCIA DOMÉSTICA/FAMILIAR|10417|\n",
            "|2018|AMEAÇA POR VIOLÊNCIA DOMÉSTICA/FAMILIAR|12624|\n",
            "|2019|AMEAÇA POR VIOLÊNCIA DOMÉSTICA/FAMILIAR|13547|\n",
            "|2020|AMEAÇA POR VIOLÊNCIA DOMÉSTICA/FAMILIAR|13252|\n",
            "|2021|AMEAÇA POR VIOLÊNCIA DOMÉSTICA/FAMILIAR|13544|\n",
            "|2022|AMEAÇA POR VIOLÊNCIA DOMÉSTICA/FAMILIAR|14126|\n",
            "|2023|AMEAÇA POR VIOLÊNCIA DOMÉSTICA/FAMILIAR|16272|\n",
            "|2024|AMEAÇA POR VIOLÊNCIA DOMÉSTICA/FAMILIAR|6939 |\n",
            "+----+---------------------------------------+-----+\n",
            "\n"
          ]
        }
      ]
    },
    {
      "cell_type": "code",
      "source": [
        "# Contagem de ocorrências por município\n",
        "contagem_por_municipio = df.groupBy('MUNICÍPIO').count()\n"
      ],
      "metadata": {
        "id": "i8-R5Sj9RWOk"
      },
      "execution_count": 54,
      "outputs": []
    },
    {
      "cell_type": "code",
      "source": [
        "# Ordenar pela contagem de ocorrências e selecionar os 10 principais\n",
        "top_10_municipios = contagem_por_municipio.orderBy('count', ascending=False).limit(10)\n"
      ],
      "metadata": {
        "id": "INYlPbe7Rz9z"
      },
      "execution_count": 55,
      "outputs": []
    },
    {
      "cell_type": "code",
      "source": [
        "# Mostrar os 10 municípios com maiores números de ocorrências por violencia domestica\n",
        "print(\"Top 10 municípios com maiores números de ocorrências:\")\n",
        "top_10_municipios.show(truncate=False)\n"
      ],
      "metadata": {
        "colab": {
          "base_uri": "https://localhost:8080/"
        },
        "id": "bwLEEo1nR2Xi",
        "outputId": "65878ba0-032f-46ac-cd51-a5f7441ccf0f"
      },
      "execution_count": 56,
      "outputs": [
        {
          "output_type": "stream",
          "name": "stdout",
          "text": [
            "Top 10 municípios com maiores números de ocorrências:\n",
            "+-----------------------+-----+\n",
            "|MUNICÍPIO              |count|\n",
            "+-----------------------+-----+\n",
            "|RECIFE                 |53231|\n",
            "|JABOATAO DOS GUARARAPES|20507|\n",
            "|OLINDA                 |17963|\n",
            "|CARUARU                |17828|\n",
            "|PETROLINA              |16519|\n",
            "|PAULISTA               |16429|\n",
            "|CABO DE SANTO AGOSTINHO|8295 |\n",
            "|GARANHUNS              |7372 |\n",
            "|CAMARAGIBE             |6046 |\n",
            "|SERRA TALHADA          |5225 |\n",
            "+-----------------------+-----+\n",
            "\n"
          ]
        }
      ]
    },
    {
      "cell_type": "markdown",
      "source": [],
      "metadata": {
        "id": "XsvnNNW0R6fH"
      }
    },
    {
      "cell_type": "code",
      "source": [
        "#Mesmo algumas cidades estando como as mais perigosas, Percebemos uma melhoria nos numeros de casoa.\n",
        "# Filtrar os dados para incluir apenas os anos de 2015 e 2024\n",
        "df_filtered = df.filter((df.ANO == 2015) | (df.ANO == 2024))\n",
        "\n",
        "# Contagem de ocorrências por município e ano\n",
        "contagem_por_municipio_ano = df_filtered.groupBy('MUNICÍPIO', 'ANO').count()\n",
        "\n",
        "# Separar os dados de 2015 e 2024\n",
        "contagem_2015 = contagem_por_municipio_ano.filter(col('ANO') == 2015).withColumnRenamed('count', 'count_2015')\n",
        "contagem_2024 = contagem_por_municipio_ano.filter(col('ANO') == 2024).withColumnRenamed('count', 'count_2024')\n",
        "\n",
        "# Juntar os dados de 2015 e 2024\n",
        "contagem_comparada = contagem_2015.join(contagem_2024, on='MUNICÍPIO', how='outer')\n",
        "\n",
        "# Substituir valores nulos por 0\n",
        "contagem_comparada = contagem_comparada.fillna(0, subset=['count_2015', 'count_2024'])\n",
        "\n",
        "# Calcular a diferença entre 2015 e 2024\n",
        "contagem_comparada = contagem_comparada.withColumn('diferença', col('count_2024') - col('count_2015'))\n",
        "\n",
        "# Ordenar pela maior melhoria (redução) no número de ocorrências e selecionar os 10 principais\n",
        "melhoria_por_municipio = contagem_comparada.orderBy('diferença', ascending=True).limit(10)\n",
        "\n",
        "# Mostrar os municípios com maior melhoria no número de ocorrências\n",
        "print(\"Municípios com maior melhoria no número de ocorrências de 2015 a 2024:\")\n",
        "melhoria_por_municipio.show(truncate=False)"
      ],
      "metadata": {
        "colab": {
          "base_uri": "https://localhost:8080/"
        },
        "id": "Sc8MAq5pSQtF",
        "outputId": "bc8871d8-a354-4acb-97e4-31c6d3506267"
      },
      "execution_count": 58,
      "outputs": [
        {
          "output_type": "stream",
          "name": "stdout",
          "text": [
            "Municípios com maior melhoria no número de ocorrências de 2015 a 2024:\n",
            "+-----------------------+----+----------+----+----------+---------+\n",
            "|MUNICÍPIO              |ANO |count_2015|ANO |count_2024|diferença|\n",
            "+-----------------------+----+----------+----+----------+---------+\n",
            "|RECIFE                 |2015|5043      |2024|2499      |-2544    |\n",
            "|JABOATAO DOS GUARARAPES|2015|2041      |2024|1372      |-669     |\n",
            "|CARUARU                |2015|1531      |2024|947       |-584     |\n",
            "|OLINDA                 |2015|1611      |2024|1052      |-559     |\n",
            "|CABO DE SANTO AGOSTINHO|2015|851       |2024|476       |-375     |\n",
            "|PETROLINA              |2015|1228      |2024|964       |-264     |\n",
            "|GOIANA                 |2015|403       |2024|205       |-198     |\n",
            "|SAO LOURENCO DA MATA   |2015|424       |2024|227       |-197     |\n",
            "|VITORIA DE SANTO ANTAO |2015|501       |2024|308       |-193     |\n",
            "|SERRA TALHADA          |2015|429       |2024|259       |-170     |\n",
            "+-----------------------+----+----------+----+----------+---------+\n",
            "\n"
          ]
        }
      ]
    },
    {
      "cell_type": "code",
      "source": [
        "\n",
        "# Filtrar os dados para incluir apenas os anos de 2015 e 2024\n",
        "df_filtered = df.filter((df.ANO == 2015) | (df.ANO == 2024))\n",
        "\n",
        "# Contagem de ocorrências por município e ano\n",
        "contagem_por_municipio_ano = df_filtered.groupBy('MUNICÍPIO', 'ANO').count()\n",
        "\n",
        "# Separar os dados de 2015 e 2024\n",
        "contagem_2015 = contagem_por_municipio_ano.filter(col('ANO') == 2015).withColumnRenamed('count', 'count_2015')\n",
        "contagem_2024 = contagem_por_municipio_ano.filter(col('ANO') == 2024).withColumnRenamed('count', 'count_2024')\n",
        "\n",
        "# Juntar os dados de 2015 e 2024\n",
        "contagem_comparada = contagem_2015.join(contagem_2024, on='MUNICÍPIO', how='outer')\n",
        "\n",
        "# Substituir valores nulos por 0\n",
        "contagem_comparada = contagem_comparada.fillna(0, subset=['count_2015', 'count_2024'])\n",
        "\n",
        "# Calcular a diferença entre 2015 e 2024\n",
        "contagem_comparada = contagem_comparada.withColumn('diferença', col('count_2024') - col('count_2015'))\n",
        "\n",
        "# Ordenar pela maior melhoria (redução) no número de ocorrências\n",
        "melhoria_por_municipio = contagem_comparada.orderBy('diferença', ascending=True).limit(10)\n",
        "\n",
        "# Coletar os dados para o Pandas\n",
        "df_pandas = melhoria_por_municipio.toPandas()\n"
      ],
      "metadata": {
        "id": "Aj6HWGEiSwQV"
      },
      "execution_count": 61,
      "outputs": []
    },
    {
      "cell_type": "code",
      "source": [
        "import matplotlib.pyplot as plt\n",
        "\n",
        "# Configurações para exibir o gráfico no Jupyter Notebook\n",
        "%matplotlib inline\n",
        "\n",
        "# Preparar os dados para o gráfico\n",
        "municipios = df_pandas['MUNICÍPIO']\n",
        "diferencas = df_pandas['diferença']\n",
        "\n",
        "# Criar o gráfico de barras\n",
        "plt.figure(figsize=(12, 8))\n",
        "plt.barh(municipios, diferencas, color='skyblue')\n",
        "plt.xlabel('Diferença no Número de Ocorrências (2015 - 2024)')\n",
        "plt.title('Municípios com Maior Melhoria no Número de Ocorrências (2015 - 2024)')\n",
        "plt.gca().invert_yaxis()  # Inverter os municípios para que o maior esteja no topo\n",
        "plt.show()\n"
      ],
      "metadata": {
        "colab": {
          "base_uri": "https://localhost:8080/",
          "height": 533
        },
        "id": "cCGAryplS3zO",
        "outputId": "b5c9aaef-7d0e-4cdb-ac83-74b19642dd99"
      },
      "execution_count": 62,
      "outputs": [
        {
          "output_type": "display_data",
          "data": {
            "text/plain": [
              "<Figure size 1200x800 with 1 Axes>"
            ],
            "image/png": "[encoded data removed]"
          },
          "metadata": {}
        }
      ]
    },
    {
      "cell_type": "code",
      "source": [
        "from pyspark.sql import SparkSession\n",
        "\n",
        "# Inicializa uma sessão Spark\n",
        "spark = SparkSession.builder.appName(\"violenciad\").getOrCreate()\n",
        "\n",
        "# Carrega os dados do arquivo CSV\n",
        "df = spark.read.csv('violencia.csv', header=True, inferSchema=True)\n",
        "\n",
        "# Exibe as primeiras linhas para entender a estrutura dos dados\n",
        "df.show(5)\n"
      ],
      "metadata": {
        "colab": {
          "base_uri": "https://localhost:8080/"
        },
        "id": "POy-PCvrUEFH",
        "outputId": "2d9365fc-5383-4f35-806b-93fc5286b214"
      },
      "execution_count": 71,
      "outputs": [
        {
          "output_type": "stream",
          "name": "stdout",
          "text": [
            "+---+--------------------+--------------------+--------------------+----------+----+--------+--------+----------+\n",
            "|_c0|           MUNICÍPIO|              REGIAO|            NATUREZA|      DATA| ANO|    SEXO|  IDADE |ENVOLVIDOS|\n",
            "+---+--------------------+--------------------+--------------------+----------+----+--------+--------+----------+\n",
            "|  0|             AFRANIO|              SERTÃO|AMEAÇA POR VIOLÊN...|2015-01-01|2015|FEMININO|5) 30-34|         1|\n",
            "|  1|           ALAGOINHA|             AGRESTE|AMEAÇA POR VIOLÊN...|2015-01-01|2015|FEMININO|6) 35-64|         1|\n",
            "|  2|            BEZERROS|             AGRESTE|AMEAÇA POR VIOLÊN...|2015-01-01|2015|FEMININO|5) 30-34|         1|\n",
            "|  3|CABO DE SANTO AGO...|REGIÃO METROPOLITANA|AMEAÇA POR VIOLÊN...|2015-01-01|2015|FEMININO|3) 18-24|         1|\n",
            "|  4|CABO DE SANTO AGO...|REGIÃO METROPOLITANA|AMEAÇA POR VIOLÊN...|2015-01-01|2015|FEMININO|5) 30-34|         1|\n",
            "+---+--------------------+--------------------+--------------------+----------+----+--------+--------+----------+\n",
            "only showing top 5 rows\n",
            "\n"
          ]
        }
      ]
    },
    {
      "cell_type": "code",
      "source": [
        "from pyspark.sql.functions import col\n",
        "\n",
        "# Filtrar os dados para incluir apenas ocorrências de Recife nos anos de 2015 a 2024\n",
        "df_recife = df.filter((col('MUNICÍPIO') == 'Recife') & (col('ANO').between(2015, 2024)))\n"
      ],
      "metadata": {
        "id": "7xzrUDG8T1hK"
      },
      "execution_count": 68,
      "outputs": []
    },
    {
      "cell_type": "code",
      "source": [
        "# Contagem de ocorrências por ano para Recife\n",
        "contagem_por_ano = df_recife.groupBy('ANO').count().orderBy('ANO')\n",
        "\n",
        "# Coletar os dados para o Pandas para manipulação mais fácil\n",
        "df_pandas = contagem_por_ano.toPandas()\n"
      ],
      "metadata": {
        "id": "koAeEblWT2ng"
      },
      "execution_count": 69,
      "outputs": []
    },
    {
      "cell_type": "code",
      "source": [
        "import matplotlib.pyplot as plt\n",
        "\n",
        "# Configurações para exibir o gráfico no Jupyter Notebook\n",
        "%matplotlib inline\n",
        "\n",
        "# Preparar os dados para o gráfico\n",
        "anos = df_pandas['ANO']\n",
        "ocorrencias = df_pandas['count']\n",
        "\n",
        "# Criar o gráfico de linha\n",
        "plt.figure(figsize=(10, 6))\n",
        "plt.plot(anos, ocorrencias, marker='o', linestyle='-')\n",
        "plt.title('Número de Ocorrências em Recife (2015-2024)')\n",
        "plt.xlabel('Ano')\n",
        "plt.ylabel('Número de Ocorrências')\n",
        "plt.grid(True)\n",
        "plt.xticks(anos)\n",
        "plt.tight_layout()\n",
        "plt.show()\n"
      ],
      "metadata": {
        "colab": {
          "base_uri": "https://localhost:8080/",
          "height": 529
        },
        "id": "oQ2EDnPRT6Kr",
        "outputId": "c5ba8768-9ef8-481a-c4e9-fb7e7bd0ce2a"
      },
      "execution_count": 72,
      "outputs": [
        {
          "output_type": "display_data",
          "data": {
            "text/plain": [
              "<Figure size 1000x600 with 1 Axes>"
            ],
            "image/png": "[encoded data removed]"
          },
          "metadata": {}
        }
      ]
    }
  ]
}